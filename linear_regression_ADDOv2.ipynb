{
 "cells": [
  {
   "cell_type": "markdown",
   "metadata": {},
   "source": [
    "# Linear Regression"
   ]
  },
  {
   "cell_type": "markdown",
   "metadata": {},
   "source": [
    "## Agenda\n",
    "\n",
    "1. Introducing the simple linear regression dataset\n",
    "    - Reading in the data\n",
    "    - Normalizing the data\n",
    "    - Visualizing the data\n",
    "2. Linear regression basics\n",
    "    - Form of linear regression\n",
    "    - Building a linear regression model using analytical solution\n",
    "    - Building a linear regression model using gradient descent\n",
    "    - Building a linear regression model using Python libraries\n",
    "3. Working with multiple features\n",
    "    - Visualizing the data (part 2)\n",
    "    - Building a multiple linear regression model using Python libraries\n",
    "    - Feature analysis using correlation matrix and Heatmap\n",
    "    - Feature analysis using Error"
   ]
  },
  {
   "cell_type": "markdown",
   "metadata": {},
   "source": [
    "## Reading in the data"
   ]
  },
  {
   "cell_type": "code",
   "execution_count": 1,
   "metadata": {
    "collapsed": true
   },
   "outputs": [],
   "source": [
    "# read the data\n",
    "import pandas as pd\n",
    "url = 'dollar.csv'\n",
    "dollar_price = pd.read_csv(url, index_col=False)"
   ]
  },
  {
   "cell_type": "code",
   "execution_count": 2,
   "metadata": {},
   "outputs": [
    {
     "data": {
      "text/html": [
       "<div>\n",
       "<style>\n",
       "    .dataframe thead tr:only-child th {\n",
       "        text-align: right;\n",
       "    }\n",
       "\n",
       "    .dataframe thead th {\n",
       "        text-align: left;\n",
       "    }\n",
       "\n",
       "    .dataframe tbody tr th {\n",
       "        vertical-align: top;\n",
       "    }\n",
       "</style>\n",
       "<table border=\"1\" class=\"dataframe\">\n",
       "  <thead>\n",
       "    <tr style=\"text-align: right;\">\n",
       "      <th></th>\n",
       "      <th>Year</th>\n",
       "      <th>Price</th>\n",
       "      <th>GDP_saving</th>\n",
       "    </tr>\n",
       "  </thead>\n",
       "  <tbody>\n",
       "    <tr>\n",
       "      <th>0</th>\n",
       "      <td>1981</td>\n",
       "      <td>12</td>\n",
       "      <td>25.369588</td>\n",
       "    </tr>\n",
       "    <tr>\n",
       "      <th>1</th>\n",
       "      <td>1982</td>\n",
       "      <td>14</td>\n",
       "      <td>25.609109</td>\n",
       "    </tr>\n",
       "    <tr>\n",
       "      <th>2</th>\n",
       "      <td>1983</td>\n",
       "      <td>14</td>\n",
       "      <td>30.431486</td>\n",
       "    </tr>\n",
       "    <tr>\n",
       "      <th>3</th>\n",
       "      <td>1984</td>\n",
       "      <td>16</td>\n",
       "      <td>26.927835</td>\n",
       "    </tr>\n",
       "    <tr>\n",
       "      <th>4</th>\n",
       "      <td>1985</td>\n",
       "      <td>17</td>\n",
       "      <td>23.985667</td>\n",
       "    </tr>\n",
       "  </tbody>\n",
       "</table>\n",
       "</div>"
      ],
      "text/plain": [
       "   Year  Price  GDP_saving\n",
       "0  1981     12   25.369588\n",
       "1  1982     14   25.609109\n",
       "2  1983     14   30.431486\n",
       "3  1984     16   26.927835\n",
       "4  1985     17   23.985667"
      ]
     },
     "execution_count": 2,
     "metadata": {},
     "output_type": "execute_result"
    }
   ],
   "source": [
    "dollar_price.head()"
   ]
  },
  {
   "cell_type": "markdown",
   "metadata": {},
   "source": [
    "**Questions:**\n",
    "\n",
    "- What does each observation represent?\n",
    "- What is the response variable ?\n",
    "- How many features are there?\n",
    "- How to normalize features ?"
   ]
  },
  {
   "cell_type": "markdown",
   "metadata": {},
   "source": [
    "# Data Normalization\n",
    "\n",
    "In order to normalize data; take maximum and min value against every input feature.\n",
    "\n",
    "If feature x has range -100 to 100, then \n",
    "min(x) = -100 and max(x) = 100\n",
    "\n",
    "**In order to normalize x = 94:**\n",
    "\n",
    " $x' = \\frac{94 - (-100)}{100 - (-100)}$\n",
    " \n",
    " $x' = \\frac{94 + 100}{100 + 100}$\n",
    " \n",
    " $x' = \\frac{194}{200}$\n",
    " \n",
    " $x' = 0.97$\n",
    " \n",
    " \n",
    " This form of normalization is called Min-max Normalization. It maps maximum value to 1 and minimum value to zero\n",
    " \n",
    " In previous example: **with minimum value of x= -100**\n",
    " \n",
    " $x' = \\frac{-100 - (-100)}{100 - (-100)}$\n",
    " \n",
    " $x' = \\frac{-100 + 100}{100 + 100}$\n",
    " \n",
    " $x' = \\frac{0}{200}$\n",
    " \n",
    " $x' = 0$\n",
    " \n",
    " \n",
    " **for x = 100 (maximum value) **\n",
    " \n",
    " $x' = \\frac{100 - (-100)}{100 - (-100)}$\n",
    " \n",
    " $x' = \\frac{100 + 100}{100 + 100}$\n",
    " \n",
    " $x' = \\frac{200}{200}$\n",
    " \n",
    " $x' = 1$\n",
    " \n",
    " There exist mean, variance and standard deviation based normalization strategies as well. You can explore them as your homework.\n"
   ]
  },
  {
   "cell_type": "code",
   "execution_count": 3,
   "metadata": {
    "collapsed": true
   },
   "outputs": [],
   "source": [
    "import numpy as np\n",
    "def normalize(list, max_, min_):\n",
    "    #min_ = min(list)* 1.0\n",
    "    #max_ = max(list)* 1.0\n",
    "    return [(i-min_)/(max_-min_) for i in list]\n",
    "\n",
    "max_x = max(dollar_price.Year)  * 1.0\n",
    "min_x = min(dollar_price.Year)  * 1.0\n",
    "max_y = max(dollar_price.Price) * 1.0\n",
    "min_y = min(dollar_price.Price) * 1.0\n",
    "\n",
    "x = np.asarray(normalize(dollar_price.Year, max_x, min_x))\n",
    "y = np.asarray(normalize(dollar_price.Price, max_y, min_y))\n"
   ]
  },
  {
   "cell_type": "markdown",
   "metadata": {},
   "source": [
    "## Visualizing the data"
   ]
  },
  {
   "cell_type": "markdown",
   "metadata": {},
   "source": [
    "After data normalization, we can plot the values to visualize the relation between variables."
   ]
  },
  {
   "cell_type": "code",
   "execution_count": 6,
   "metadata": {
    "collapsed": true
   },
   "outputs": [],
   "source": [
    "import seaborn as sns\n",
    "import matplotlib.pyplot as plt\n",
    "%matplotlib inline\n",
    "plt.rcParams['figure.figsize'] = (8, 6)\n",
    "plt.rcParams['font.size'] = 14"
   ]
  },
  {
   "cell_type": "code",
   "execution_count": 7,
   "metadata": {},
   "outputs": [
    {
     "data": {
      "text/plain": [
       "<matplotlib.axes._subplots.AxesSubplot at 0xac706a0>"
      ]
     },
     "execution_count": 7,
     "metadata": {},
     "output_type": "execute_result"
    },
    {
     "data": {
      "image/png": "[encoded data removed]",
      "text/plain": [
       "<matplotlib.figure.Figure at 0x48f95f8>"
      ]
     },
     "metadata": {},
     "output_type": "display_data"
    }
   ],
   "source": [
    "# Pandas scatter plot\n",
    "dollar_price.plot(kind='scatter', x='Year', y='Price', alpha=0.2)"
   ]
  },
  {
   "cell_type": "code",
   "execution_count": 11,
   "metadata": {},
   "outputs": [
    {
     "data": {
      "image/png": "[encoded data removed]",
      "text/plain": [
       "<matplotlib.figure.Figure at 0xc61f5f8>"
      ]
     },
     "metadata": {},
     "output_type": "display_data"
    }
   ],
   "source": [
    "# plot of normalized values\n",
    "plt.scatter(x, y)\n",
    "plt.show()"
   ]
  },
  {
   "cell_type": "code",
   "execution_count": 12,
   "metadata": {},
   "outputs": [
    {
     "data": {
      "text/plain": [
       "<seaborn.axisgrid.FacetGrid at 0xc878208>"
      ]
     },
     "execution_count": 12,
     "metadata": {},
     "output_type": "execute_result"
    },
    {
     "data": {
      "image/png": "[encoded data removed]",
      "text/plain": [
       "<matplotlib.figure.Figure at 0xc61f470>"
      ]
     },
     "metadata": {},
     "output_type": "display_data"
    },
    {
     "data": {
      "image/png": "[encoded data removed]",
      "text/plain": [
       "<matplotlib.figure.Figure at 0xca7db00>"
      ]
     },
     "metadata": {},
     "output_type": "display_data"
    }
   ],
   "source": [
    "# Seaborn scatter plot with regression line\n",
    "sns.lmplot(x='Year', y='Price', data=dollar_price, aspect=1.5, scatter_kws={'alpha':0.2})\n",
    "\n",
    "norm_dollar = pd.DataFrame(\n",
    "    {'Year': x,\n",
    "     'Price': y })\n",
    "sns.lmplot(x='Year', y='Price', data=norm_dollar, aspect=1.5, scatter_kws={'alpha':0.2})\n"
   ]
  },
  {
   "cell_type": "markdown",
   "metadata": {},
   "source": [
    "## Form of linear regression\n",
    "\n",
    "$y = w_0 + w_1x_1 + w_2x_2 + ... + w_nx_n$\n",
    "\n",
    "- $y$ is the response\n",
    "- $w_0$ is the intercept\n",
    "- $w_1$ is the coefficient for $x_1$ (the first feature)\n",
    "- $w_n$ is the coefficient for $x_n$ (the nth feature)\n",
    "\n",
    "The $w$ values are called the **model coefficients**:\n",
    "\n",
    "- These values are estimated (or \"learned\") during the model fitting process using the **least squares criterion**.\n",
    "- Specifically, we are find the line (mathematically) which minimizes the **sum of squared residuals** (or \"sum of squared errors\").\n",
    "- And once we've learned these coefficients, we can use the model to predict the response.\n",
    "\n",
    "![Estimating coefficients](images/estimating_coefficients.png)\n",
    "\n",
    "In the diagram above:\n",
    "\n",
    "- The black dots are the **observed values** of x and y.\n",
    "- The blue line is our **least squares line**."
   ]
  },
  {
   "cell_type": "markdown",
   "metadata": {},
   "source": [
    "## Building a linear regression model using Analyical Solution"
   ]
  },
  {
   "cell_type": "markdown",
   "metadata": {},
   "source": [
    "# In analytical solution, \n",
    "\n",
    "we derived $ŵ_𝟎= \\bar{y} − ŵ_𝟏 * \\bar{x}$\n",
    "\n",
    "Similarly $\\hat{w_1} = \\frac{ \\sum_{i=1}^n x_i y_i - n \\bar{y} \\bar{x} }{\\sum_{i=1}^n x_i^2  - n \\bar{x}^2 }$\n",
    "\n",
    "\n",
    "    "
   ]
  },
  {
   "cell_type": "code",
   "execution_count": 13,
   "metadata": {},
   "outputs": [
    {
     "name": "stdout",
     "output_type": "stream",
     "text": [
      "w1 = -0.0878972278567, w0 = 0.953223922798\n"
     ]
    }
   ],
   "source": [
    "# calculating squares\n",
    "def square(list):\n",
    "    return [i ** 2 for i in list]\n",
    "\n",
    "square_x = square(x)\n",
    "sum_X2 = sum(square_x)\n",
    "sum_x = sum(x)\n",
    "sum_y = sum(y)\n",
    "n = len(y)\n",
    "avg_x = sum_x/n\n",
    "avg_y = sum_y/n\n",
    "sum_XY = 0\n",
    "c = 0\n",
    "\n",
    "for i in x:\n",
    "    sum_XY += i * y[c]\n",
    "    c+=1\n",
    "\n",
    "w1 = (sum_XY - n * avg_x * avg_y)/ (sum_X2 - n * avg_x * avg_x)\n",
    "w0 = avg_y - w1 * avg_x \n",
    "\n",
    "print(\"w1 = {0}, w0 = {1}\". format(w0, w1))\n"
   ]
  },
  {
   "cell_type": "markdown",
   "metadata": {},
   "source": [
    "# Using Gradient Descent method \n",
    "\n",
    "Gradient function for both paramters are given as following:\n",
    "\n",
    "$\\frac{\\partial Error}{\\partial \\hat{w_0}} = 2 * \\sum_{i=1}^n (y_i - \\hat{y_i}) (-1)$\n",
    "\n",
    "\n",
    "$\\frac{\\partial Error}{\\partial \\hat{w_1}} = 2 * \\sum_{i=1}^n (y_i - \\hat{y_i}) (- x_i)$\n"
   ]
  },
  {
   "cell_type": "code",
   "execution_count": 26,
   "metadata": {},
   "outputs": [
    {
     "name": "stdout",
     "output_type": "stream",
     "text": [
      "Starting gradient descent at w0 = 0, w1 = 0, error = 0.235570128555\n",
      "Running...\n",
      "After 10000 iterations w0 = -0.0878968692847, w1 = 0.953223255701, error = 0.00401885219588\n"
     ]
    }
   ],
   "source": [
    "#Gradient descent algorithm for linear regression\n",
    "from numpy import *\n",
    "\n",
    "# minimize the \"sum of squared errors\". \n",
    "def compute_error_for_line_given_points (w0,w1,x, y):\n",
    "    totalError = 0 \t#sum of square error formula\n",
    "    for i in range (0, len(y)):\n",
    "        x_i = x[i]\n",
    "        y_i = y[i]\n",
    "        error = (y_i - (w0 + w1 *x_i)) ** 2\n",
    "        totalError += error\n",
    "    return totalError/ float(len(y))\n",
    "\n",
    "def step_gradient (w0_current, w1_current, x , y, learning_rate):\n",
    "    #gradient descent\n",
    "    w0_gradient = 0\n",
    "    w1_gradient = 0\n",
    "    N = float(len(y))\n",
    "    for i in range (0, len(y)):\n",
    "        x_i = x[i]\n",
    "        y_i = y[i]\n",
    "        w0_gradient += -(2) * (y_i - (w1_current * x_i + w0_current))\n",
    "        w1_gradient += -(2) * x_i * (y_i - (w1_current * x_i + w0_current))\n",
    "    new_w0 = w0_current - (learning_rate * w0_gradient/N)\n",
    "    new_w1 = w1_current - (learning_rate * w1_gradient/N) \n",
    "    return [new_w0,new_w1]\n",
    "\n",
    "def gradient_descent_runner(x , y, starting_w0, starting_w1, learning_rate, num_iteartions):\n",
    "    w0 = starting_w0\n",
    "    w1 = starting_w1\n",
    "    for i in range(num_iteartions):\n",
    "        w0,w1 = step_gradient(w0, w1, x , y, learning_rate)\n",
    "    return [w0,w1]\n",
    "\n",
    "\n",
    "#Step 1: Define Hyperparameters (Parameters required in models  )\n",
    "learning_rate = 0.01    # how fast the data converge\n",
    "initial_w0 = 0\n",
    "initial_w1 = 0 \n",
    "num_iterations = 10000\n",
    "print(\"Starting gradient descent at w0 = {0}, w1 = {1}, error = {2}\".format(initial_w0, initial_w1, compute_error_for_line_given_points(initial_w0, initial_w1, x , y)))\n",
    "print(\"Running...\")\n",
    "[w0, w1] = gradient_descent_runner(x , y, initial_w0, initial_w1, learning_rate, num_iterations)\n",
    "print(\"After {0} iterations w0 = {1}, w1 = {2}, error = {3}\".format(num_iterations, w0, w1, compute_error_for_line_given_points(w0, w1, x , y)))\n",
    "\n",
    "\n"
   ]
  },
  {
   "cell_type": "markdown",
   "metadata": {},
   "source": [
    "# Linear Regression using Python packages\n",
    "\n",
    "Here we have used Python libaries named scikit to perform linear regression"
   ]
  },
  {
   "cell_type": "code",
   "execution_count": 35,
   "metadata": {},
   "outputs": [
    {
     "ename": "AttributeError",
     "evalue": "'DataFrame' object has no attribute 'reshape'",
     "output_type": "error",
     "traceback": [
      "\u001b[1;31m---------------------------------------------------------------------------\u001b[0m",
      "\u001b[1;31mAttributeError\u001b[0m                            Traceback (most recent call last)",
      "\u001b[1;32m<ipython-input-35-3c5cfc4c433e>\u001b[0m in \u001b[0;36m<module>\u001b[1;34m()\u001b[0m\n\u001b[0;32m      2\u001b[0m \u001b[1;32mfrom\u001b[0m \u001b[0msklearn\u001b[0m\u001b[1;33m.\u001b[0m\u001b[0mlinear_model\u001b[0m \u001b[1;32mimport\u001b[0m \u001b[0mLinearRegression\u001b[0m\u001b[1;33m\u001b[0m\u001b[0m\n\u001b[0;32m      3\u001b[0m \u001b[0mlinreg\u001b[0m \u001b[1;33m=\u001b[0m \u001b[0mLinearRegression\u001b[0m\u001b[1;33m(\u001b[0m\u001b[1;33m)\u001b[0m\u001b[1;33m\u001b[0m\u001b[0m\n\u001b[1;32m----> 4\u001b[1;33m \u001b[0mlinreg\u001b[0m\u001b[1;33m.\u001b[0m\u001b[0mfit\u001b[0m\u001b[1;33m(\u001b[0m\u001b[0mx\u001b[0m\u001b[1;33m.\u001b[0m\u001b[0mreshape\u001b[0m\u001b[1;33m(\u001b[0m\u001b[1;33m-\u001b[0m\u001b[1;36m1\u001b[0m\u001b[1;33m,\u001b[0m\u001b[1;36m1\u001b[0m\u001b[1;33m)\u001b[0m\u001b[1;33m,\u001b[0m \u001b[0my\u001b[0m\u001b[1;33m)\u001b[0m\u001b[1;33m\u001b[0m\u001b[0m\n\u001b[0m",
      "\u001b[1;32mC:\\ProgramData\\Anaconda2\\lib\\site-packages\\pandas\\core\\generic.py\u001b[0m in \u001b[0;36m__getattr__\u001b[1;34m(self, name)\u001b[0m\n\u001b[0;32m   2968\u001b[0m             \u001b[1;32mif\u001b[0m \u001b[0mname\u001b[0m \u001b[1;32min\u001b[0m \u001b[0mself\u001b[0m\u001b[1;33m.\u001b[0m\u001b[0m_info_axis\u001b[0m\u001b[1;33m:\u001b[0m\u001b[1;33m\u001b[0m\u001b[0m\n\u001b[0;32m   2969\u001b[0m                 \u001b[1;32mreturn\u001b[0m \u001b[0mself\u001b[0m\u001b[1;33m[\u001b[0m\u001b[0mname\u001b[0m\u001b[1;33m]\u001b[0m\u001b[1;33m\u001b[0m\u001b[0m\n\u001b[1;32m-> 2970\u001b[1;33m             \u001b[1;32mreturn\u001b[0m \u001b[0mobject\u001b[0m\u001b[1;33m.\u001b[0m\u001b[0m__getattribute__\u001b[0m\u001b[1;33m(\u001b[0m\u001b[0mself\u001b[0m\u001b[1;33m,\u001b[0m \u001b[0mname\u001b[0m\u001b[1;33m)\u001b[0m\u001b[1;33m\u001b[0m\u001b[0m\n\u001b[0m\u001b[0;32m   2971\u001b[0m \u001b[1;33m\u001b[0m\u001b[0m\n\u001b[0;32m   2972\u001b[0m     \u001b[1;32mdef\u001b[0m \u001b[0m__setattr__\u001b[0m\u001b[1;33m(\u001b[0m\u001b[0mself\u001b[0m\u001b[1;33m,\u001b[0m \u001b[0mname\u001b[0m\u001b[1;33m,\u001b[0m \u001b[0mvalue\u001b[0m\u001b[1;33m)\u001b[0m\u001b[1;33m:\u001b[0m\u001b[1;33m\u001b[0m\u001b[0m\n",
      "\u001b[1;31mAttributeError\u001b[0m: 'DataFrame' object has no attribute 'reshape'"
     ]
    }
   ],
   "source": [
    "# import, instantiate, fit\n",
    "from sklearn.linear_model import LinearRegression\n",
    "linreg = LinearRegression()\n",
    "linreg.fit(x.reshape(-1,1), y)"
   ]
  },
  {
   "cell_type": "code",
   "execution_count": null,
   "metadata": {
    "scrolled": true
   },
   "outputs": [],
   "source": [
    "# print the coefficients\n",
    "print (linreg.intercept_)\n",
    "print (linreg.coef_)"
   ]
  },
  {
   "cell_type": "markdown",
   "metadata": {},
   "source": [
    "Interpreting the **intercept** ($\\hat{w_0}$):\n",
    "\n",
    "- It is the value of $y$ when $x$=0.\n",
    "- Thus, it is the estimated number of dollar price when the year is zero (in normalized terms).\n",
    "- **Note:** It does not always make sense to interpret the intercept. (Why?)\n",
    "\n",
    "Interpreting the **\"price\" coefficient** ($\\hat{w_1}$):\n",
    "\n",
    "- It is the change in $y$ divided by change in $x$, or the \"slope\".\n",
    "- Thus, a year increase  is **associated with** a dollar price increase of 0.95 points.\n",
    "- This is not a statement of causation.\n",
    "- $\\hat{w_1}$: would be **negative** if an increase in year was associated with a **decrease** in dollar price."
   ]
  },
  {
   "cell_type": "markdown",
   "metadata": {},
   "source": [
    "# Multiple Linear Regression\n",
    "\n",
    "It is applied when there exist multiple input features. \n",
    "For this task, we'll be working with a dataset from Capital Bikeshare that was used in a Kaggle competition ([data dictionary](https://www.kaggle.com/c/bike-sharing-demand/data)).\n"
   ]
  },
  {
   "cell_type": "code",
   "execution_count": 36,
   "metadata": {
    "collapsed": true
   },
   "outputs": [],
   "source": [
    "import pandas as pd\n",
    "url = 'train.csv'\n",
    "bikes = pd.read_csv(url, index_col='datetime', parse_dates=True)"
   ]
  },
  {
   "cell_type": "code",
   "execution_count": 37,
   "metadata": {},
   "outputs": [
    {
     "data": {
      "text/html": [
       "<div>\n",
       "<style>\n",
       "    .dataframe thead tr:only-child th {\n",
       "        text-align: right;\n",
       "    }\n",
       "\n",
       "    .dataframe thead th {\n",
       "        text-align: left;\n",
       "    }\n",
       "\n",
       "    .dataframe tbody tr th {\n",
       "        vertical-align: top;\n",
       "    }\n",
       "</style>\n",
       "<table border=\"1\" class=\"dataframe\">\n",
       "  <thead>\n",
       "    <tr style=\"text-align: right;\">\n",
       "      <th></th>\n",
       "      <th>season</th>\n",
       "      <th>holiday</th>\n",
       "      <th>workingday</th>\n",
       "      <th>weather</th>\n",
       "      <th>temp</th>\n",
       "      <th>atemp</th>\n",
       "      <th>humidity</th>\n",
       "      <th>windspeed</th>\n",
       "      <th>casual</th>\n",
       "      <th>registered</th>\n",
       "      <th>count</th>\n",
       "    </tr>\n",
       "    <tr>\n",
       "      <th>datetime</th>\n",
       "      <th></th>\n",
       "      <th></th>\n",
       "      <th></th>\n",
       "      <th></th>\n",
       "      <th></th>\n",
       "      <th></th>\n",
       "      <th></th>\n",
       "      <th></th>\n",
       "      <th></th>\n",
       "      <th></th>\n",
       "      <th></th>\n",
       "    </tr>\n",
       "  </thead>\n",
       "  <tbody>\n",
       "    <tr>\n",
       "      <th>2011-01-01 00:00:00</th>\n",
       "      <td>1</td>\n",
       "      <td>0</td>\n",
       "      <td>0</td>\n",
       "      <td>1</td>\n",
       "      <td>9.84</td>\n",
       "      <td>14.395</td>\n",
       "      <td>81</td>\n",
       "      <td>0.0</td>\n",
       "      <td>3</td>\n",
       "      <td>13</td>\n",
       "      <td>16</td>\n",
       "    </tr>\n",
       "    <tr>\n",
       "      <th>2011-01-01 01:00:00</th>\n",
       "      <td>1</td>\n",
       "      <td>0</td>\n",
       "      <td>0</td>\n",
       "      <td>1</td>\n",
       "      <td>9.02</td>\n",
       "      <td>13.635</td>\n",
       "      <td>80</td>\n",
       "      <td>0.0</td>\n",
       "      <td>8</td>\n",
       "      <td>32</td>\n",
       "      <td>40</td>\n",
       "    </tr>\n",
       "    <tr>\n",
       "      <th>2011-01-01 02:00:00</th>\n",
       "      <td>1</td>\n",
       "      <td>0</td>\n",
       "      <td>0</td>\n",
       "      <td>1</td>\n",
       "      <td>9.02</td>\n",
       "      <td>13.635</td>\n",
       "      <td>80</td>\n",
       "      <td>0.0</td>\n",
       "      <td>5</td>\n",
       "      <td>27</td>\n",
       "      <td>32</td>\n",
       "    </tr>\n",
       "    <tr>\n",
       "      <th>2011-01-01 03:00:00</th>\n",
       "      <td>1</td>\n",
       "      <td>0</td>\n",
       "      <td>0</td>\n",
       "      <td>1</td>\n",
       "      <td>9.84</td>\n",
       "      <td>14.395</td>\n",
       "      <td>75</td>\n",
       "      <td>0.0</td>\n",
       "      <td>3</td>\n",
       "      <td>10</td>\n",
       "      <td>13</td>\n",
       "    </tr>\n",
       "    <tr>\n",
       "      <th>2011-01-01 04:00:00</th>\n",
       "      <td>1</td>\n",
       "      <td>0</td>\n",
       "      <td>0</td>\n",
       "      <td>1</td>\n",
       "      <td>9.84</td>\n",
       "      <td>14.395</td>\n",
       "      <td>75</td>\n",
       "      <td>0.0</td>\n",
       "      <td>0</td>\n",
       "      <td>1</td>\n",
       "      <td>1</td>\n",
       "    </tr>\n",
       "  </tbody>\n",
       "</table>\n",
       "</div>"
      ],
      "text/plain": [
       "                     season  holiday  workingday  weather  temp   atemp  \\\n",
       "datetime                                                                  \n",
       "2011-01-01 00:00:00       1        0           0        1  9.84  14.395   \n",
       "2011-01-01 01:00:00       1        0           0        1  9.02  13.635   \n",
       "2011-01-01 02:00:00       1        0           0        1  9.02  13.635   \n",
       "2011-01-01 03:00:00       1        0           0        1  9.84  14.395   \n",
       "2011-01-01 04:00:00       1        0           0        1  9.84  14.395   \n",
       "\n",
       "                     humidity  windspeed  casual  registered  count  \n",
       "datetime                                                             \n",
       "2011-01-01 00:00:00        81        0.0       3          13     16  \n",
       "2011-01-01 01:00:00        80        0.0       8          32     40  \n",
       "2011-01-01 02:00:00        80        0.0       5          27     32  \n",
       "2011-01-01 03:00:00        75        0.0       3          10     13  \n",
       "2011-01-01 04:00:00        75        0.0       0           1      1  "
      ]
     },
     "execution_count": 37,
     "metadata": {},
     "output_type": "execute_result"
    }
   ],
   "source": [
    "bikes.head()"
   ]
  },
  {
   "cell_type": "code",
   "execution_count": 38,
   "metadata": {},
   "outputs": [
    {
     "data": {
      "text/plain": [
       "<seaborn.axisgrid.PairGrid at 0xe62f978>"
      ]
     },
     "execution_count": 38,
     "metadata": {},
     "output_type": "execute_result"
    },
    {
     "data": {
      "image/png": "[encoded data removed]",
      "text/plain": [
       "<matplotlib.figure.Figure at 0xcaa9dd8>"
      ]
     },
     "metadata": {},
     "output_type": "display_data"
    }
   ],
   "source": [
    "# \"count\" is a method, so it's best to name that column something else\n",
    "bikes.rename(columns={'count':'total'}, inplace=True)\n",
    "\n",
    "feature_cols = ['temp', 'season', 'weather', 'casual', 'holiday']\n",
    "# multiple scatter plots in Seaborn\n",
    "sns.pairplot(bikes, x_vars=feature_cols, y_vars='total', kind='reg') \n"
   ]
  },
  {
   "cell_type": "code",
   "execution_count": 39,
   "metadata": {},
   "outputs": [
    {
     "data": {
      "image/png": "[encoded data removed]",
      "text/plain": [
       "<matplotlib.figure.Figure at 0xfa54fd0>"
      ]
     },
     "metadata": {},
     "output_type": "display_data"
    }
   ],
   "source": [
    "\n",
    "# multiple scatter plots in Pandas\n",
    "fig, axs = plt.subplots(1, len(feature_cols), sharey=True)\n",
    "for index, feature in enumerate(feature_cols):\n",
    "    bikes.plot(kind='scatter', x=feature, y='total', ax=axs[index], figsize=(16, 3))"
   ]
  },
  {
   "cell_type": "code",
   "execution_count": 40,
   "metadata": {},
   "outputs": [
    {
     "name": "stdout",
     "output_type": "stream",
     "text": [
      "57.0617970793\n",
      "[  1.59069604  13.72563428 -10.86003081   2.34479218 -39.67663493]\n"
     ]
    }
   ],
   "source": [
    "    # create X and y\n",
    "x = bikes[feature_cols]\n",
    "y = bikes.total\n",
    "\n",
    "# instantiate and fit\n",
    "linreg = LinearRegression()\n",
    "linreg.fit(x, y)\n",
    "\n",
    "# print the coefficients\n",
    "print linreg.intercept_\n",
    "print linreg.coef_\n"
   ]
  },
  {
   "cell_type": "markdown",
   "metadata": {},
   "source": [
    "What does this tell us?\n",
    "\n",
    "There are more rentals in the winter than the spring, but only because the system is experiencing **overall growth** and the winter months happen to come after the spring months."
   ]
  },
  {
   "cell_type": "code",
   "execution_count": 41,
   "metadata": {},
   "outputs": [
    {
     "data": {
      "text/html": [
       "<div>\n",
       "<style>\n",
       "    .dataframe thead tr:only-child th {\n",
       "        text-align: right;\n",
       "    }\n",
       "\n",
       "    .dataframe thead th {\n",
       "        text-align: left;\n",
       "    }\n",
       "\n",
       "    .dataframe tbody tr th {\n",
       "        vertical-align: top;\n",
       "    }\n",
       "</style>\n",
       "<table border=\"1\" class=\"dataframe\">\n",
       "  <thead>\n",
       "    <tr style=\"text-align: right;\">\n",
       "      <th></th>\n",
       "      <th>season</th>\n",
       "      <th>holiday</th>\n",
       "      <th>workingday</th>\n",
       "      <th>weather</th>\n",
       "      <th>temp</th>\n",
       "      <th>atemp</th>\n",
       "      <th>humidity</th>\n",
       "      <th>windspeed</th>\n",
       "      <th>casual</th>\n",
       "      <th>registered</th>\n",
       "      <th>total</th>\n",
       "    </tr>\n",
       "  </thead>\n",
       "  <tbody>\n",
       "    <tr>\n",
       "      <th>season</th>\n",
       "      <td>1.000000</td>\n",
       "      <td>0.029368</td>\n",
       "      <td>-0.008126</td>\n",
       "      <td>0.008879</td>\n",
       "      <td>0.258689</td>\n",
       "      <td>0.264744</td>\n",
       "      <td>0.190610</td>\n",
       "      <td>-0.147121</td>\n",
       "      <td>0.096758</td>\n",
       "      <td>0.164011</td>\n",
       "      <td>0.163439</td>\n",
       "    </tr>\n",
       "    <tr>\n",
       "      <th>holiday</th>\n",
       "      <td>0.029368</td>\n",
       "      <td>1.000000</td>\n",
       "      <td>-0.250491</td>\n",
       "      <td>-0.007074</td>\n",
       "      <td>0.000295</td>\n",
       "      <td>-0.005215</td>\n",
       "      <td>0.001929</td>\n",
       "      <td>0.008409</td>\n",
       "      <td>0.043799</td>\n",
       "      <td>-0.020956</td>\n",
       "      <td>-0.005393</td>\n",
       "    </tr>\n",
       "    <tr>\n",
       "      <th>workingday</th>\n",
       "      <td>-0.008126</td>\n",
       "      <td>-0.250491</td>\n",
       "      <td>1.000000</td>\n",
       "      <td>0.033772</td>\n",
       "      <td>0.029966</td>\n",
       "      <td>0.024660</td>\n",
       "      <td>-0.010880</td>\n",
       "      <td>0.013373</td>\n",
       "      <td>-0.319111</td>\n",
       "      <td>0.119460</td>\n",
       "      <td>0.011594</td>\n",
       "    </tr>\n",
       "    <tr>\n",
       "      <th>weather</th>\n",
       "      <td>0.008879</td>\n",
       "      <td>-0.007074</td>\n",
       "      <td>0.033772</td>\n",
       "      <td>1.000000</td>\n",
       "      <td>-0.055035</td>\n",
       "      <td>-0.055376</td>\n",
       "      <td>0.406244</td>\n",
       "      <td>0.007261</td>\n",
       "      <td>-0.135918</td>\n",
       "      <td>-0.109340</td>\n",
       "      <td>-0.128655</td>\n",
       "    </tr>\n",
       "    <tr>\n",
       "      <th>temp</th>\n",
       "      <td>0.258689</td>\n",
       "      <td>0.000295</td>\n",
       "      <td>0.029966</td>\n",
       "      <td>-0.055035</td>\n",
       "      <td>1.000000</td>\n",
       "      <td>0.984948</td>\n",
       "      <td>-0.064949</td>\n",
       "      <td>-0.017852</td>\n",
       "      <td>0.467097</td>\n",
       "      <td>0.318571</td>\n",
       "      <td>0.394454</td>\n",
       "    </tr>\n",
       "    <tr>\n",
       "      <th>atemp</th>\n",
       "      <td>0.264744</td>\n",
       "      <td>-0.005215</td>\n",
       "      <td>0.024660</td>\n",
       "      <td>-0.055376</td>\n",
       "      <td>0.984948</td>\n",
       "      <td>1.000000</td>\n",
       "      <td>-0.043536</td>\n",
       "      <td>-0.057473</td>\n",
       "      <td>0.462067</td>\n",
       "      <td>0.314635</td>\n",
       "      <td>0.389784</td>\n",
       "    </tr>\n",
       "    <tr>\n",
       "      <th>humidity</th>\n",
       "      <td>0.190610</td>\n",
       "      <td>0.001929</td>\n",
       "      <td>-0.010880</td>\n",
       "      <td>0.406244</td>\n",
       "      <td>-0.064949</td>\n",
       "      <td>-0.043536</td>\n",
       "      <td>1.000000</td>\n",
       "      <td>-0.318607</td>\n",
       "      <td>-0.348187</td>\n",
       "      <td>-0.265458</td>\n",
       "      <td>-0.317371</td>\n",
       "    </tr>\n",
       "    <tr>\n",
       "      <th>windspeed</th>\n",
       "      <td>-0.147121</td>\n",
       "      <td>0.008409</td>\n",
       "      <td>0.013373</td>\n",
       "      <td>0.007261</td>\n",
       "      <td>-0.017852</td>\n",
       "      <td>-0.057473</td>\n",
       "      <td>-0.318607</td>\n",
       "      <td>1.000000</td>\n",
       "      <td>0.092276</td>\n",
       "      <td>0.091052</td>\n",
       "      <td>0.101369</td>\n",
       "    </tr>\n",
       "    <tr>\n",
       "      <th>casual</th>\n",
       "      <td>0.096758</td>\n",
       "      <td>0.043799</td>\n",
       "      <td>-0.319111</td>\n",
       "      <td>-0.135918</td>\n",
       "      <td>0.467097</td>\n",
       "      <td>0.462067</td>\n",
       "      <td>-0.348187</td>\n",
       "      <td>0.092276</td>\n",
       "      <td>1.000000</td>\n",
       "      <td>0.497250</td>\n",
       "      <td>0.690414</td>\n",
       "    </tr>\n",
       "    <tr>\n",
       "      <th>registered</th>\n",
       "      <td>0.164011</td>\n",
       "      <td>-0.020956</td>\n",
       "      <td>0.119460</td>\n",
       "      <td>-0.109340</td>\n",
       "      <td>0.318571</td>\n",
       "      <td>0.314635</td>\n",
       "      <td>-0.265458</td>\n",
       "      <td>0.091052</td>\n",
       "      <td>0.497250</td>\n",
       "      <td>1.000000</td>\n",
       "      <td>0.970948</td>\n",
       "    </tr>\n",
       "    <tr>\n",
       "      <th>total</th>\n",
       "      <td>0.163439</td>\n",
       "      <td>-0.005393</td>\n",
       "      <td>0.011594</td>\n",
       "      <td>-0.128655</td>\n",
       "      <td>0.394454</td>\n",
       "      <td>0.389784</td>\n",
       "      <td>-0.317371</td>\n",
       "      <td>0.101369</td>\n",
       "      <td>0.690414</td>\n",
       "      <td>0.970948</td>\n",
       "      <td>1.000000</td>\n",
       "    </tr>\n",
       "  </tbody>\n",
       "</table>\n",
       "</div>"
      ],
      "text/plain": [
       "              season   holiday  workingday   weather      temp     atemp  \\\n",
       "season      1.000000  0.029368   -0.008126  0.008879  0.258689  0.264744   \n",
       "holiday     0.029368  1.000000   -0.250491 -0.007074  0.000295 -0.005215   \n",
       "workingday -0.008126 -0.250491    1.000000  0.033772  0.029966  0.024660   \n",
       "weather     0.008879 -0.007074    0.033772  1.000000 -0.055035 -0.055376   \n",
       "temp        0.258689  0.000295    0.029966 -0.055035  1.000000  0.984948   \n",
       "atemp       0.264744 -0.005215    0.024660 -0.055376  0.984948  1.000000   \n",
       "humidity    0.190610  0.001929   -0.010880  0.406244 -0.064949 -0.043536   \n",
       "windspeed  -0.147121  0.008409    0.013373  0.007261 -0.017852 -0.057473   \n",
       "casual      0.096758  0.043799   -0.319111 -0.135918  0.467097  0.462067   \n",
       "registered  0.164011 -0.020956    0.119460 -0.109340  0.318571  0.314635   \n",
       "total       0.163439 -0.005393    0.011594 -0.128655  0.394454  0.389784   \n",
       "\n",
       "            humidity  windspeed    casual  registered     total  \n",
       "season      0.190610  -0.147121  0.096758    0.164011  0.163439  \n",
       "holiday     0.001929   0.008409  0.043799   -0.020956 -0.005393  \n",
       "workingday -0.010880   0.013373 -0.319111    0.119460  0.011594  \n",
       "weather     0.406244   0.007261 -0.135918   -0.109340 -0.128655  \n",
       "temp       -0.064949  -0.017852  0.467097    0.318571  0.394454  \n",
       "atemp      -0.043536  -0.057473  0.462067    0.314635  0.389784  \n",
       "humidity    1.000000  -0.318607 -0.348187   -0.265458 -0.317371  \n",
       "windspeed  -0.318607   1.000000  0.092276    0.091052  0.101369  \n",
       "casual     -0.348187   0.092276  1.000000    0.497250  0.690414  \n",
       "registered -0.265458   0.091052  0.497250    1.000000  0.970948  \n",
       "total      -0.317371   0.101369  0.690414    0.970948  1.000000  "
      ]
     },
     "execution_count": 41,
     "metadata": {},
     "output_type": "execute_result"
    }
   ],
   "source": [
    "# correlation matrix (ranges from 1 to -1)\n",
    "bikes.corr()"
   ]
  },
  {
   "cell_type": "code",
   "execution_count": 42,
   "metadata": {},
   "outputs": [
    {
     "data": {
      "text/plain": [
       "<matplotlib.axes._subplots.AxesSubplot at 0xeea8278>"
      ]
     },
     "execution_count": 42,
     "metadata": {},
     "output_type": "execute_result"
    },
    {
     "data": {
      "image/png": "[encoded data removed]",
      "text/plain": [
       "<matplotlib.figure.Figure at 0xfa68da0>"
      ]
     },
     "metadata": {},
     "output_type": "display_data"
    }
   ],
   "source": [
    "# visualize correlation matrix in Seaborn using a heatmap\n",
    "sns.heatmap(bikes.corr())"
   ]
  },
  {
   "cell_type": "markdown",
   "metadata": {},
   "source": [
    "# Heatmap\n",
    "\n",
    "Heatmap is alternate way to analyze the correlation between various attributes. Here blue color shows negative correlation whereas red color shows positive correlation. "
   ]
  },
  {
   "cell_type": "markdown",
   "metadata": {},
   "source": [
    "## Adding more features to the model\n",
    "\n",
    "In the light of insights learnt from heatmap i.e. correlation matrix, one can update the model parameters."
   ]
  },
  {
   "cell_type": "code",
   "execution_count": 43,
   "metadata": {
    "collapsed": true
   },
   "outputs": [],
   "source": [
    "# create a list of features\n",
    "feature_cols = ['temp', 'season', 'weather', 'humidity', 'holiday'] #, 'holiday', 'casual']"
   ]
  },
  {
   "cell_type": "code",
   "execution_count": 44,
   "metadata": {
    "scrolled": true
   },
   "outputs": [
    {
     "name": "stdout",
     "output_type": "stream",
     "text": [
      "(10886, 5)\n",
      "159.74875345\n",
      "[  7.86309353  22.58429941   6.65255507  -3.11902562  -9.54182463]\n"
     ]
    }
   ],
   "source": [
    "# create X and y\n",
    "X = bikes[feature_cols]\n",
    "y = bikes.total\n",
    "\n",
    "print(X.shape)\n",
    "# instantiate and fit\n",
    "linreg = LinearRegression()\n",
    "linreg.fit(X, y)\n",
    "\n",
    "# print the coefficients\n",
    "print linreg.intercept_\n",
    "print linreg.coef_"
   ]
  },
  {
   "cell_type": "markdown",
   "metadata": {},
   "source": [
    "# Feature analysis using Error\n",
    "\n",
    "Here, a generic function is provided to calculate the error using header information and input. Using this fucntion, we can analyze which features help in improving model accuracy on training dataset.\n"
   ]
  },
  {
   "cell_type": "code",
   "execution_count": 46,
   "metadata": {},
   "outputs": [
    {
     "name": "stdout",
     "output_type": "stream",
     "text": [
      "Error : 16275.3965791\n"
     ]
    }
   ],
   "source": [
    "# pair the feature names with the coefficients\n",
    "zip(feature_cols, linreg.coef_)\n",
    "\n",
    "def calculateError(X, y, bias, coef, cols):\n",
    "    error = 0\n",
    "    c = 0\n",
    "    pdList = list()\n",
    "    for entry in cols:\n",
    "        tmp = list(X[entry].tolist())\n",
    "        pdList.append(tmp)\n",
    "    \n",
    "    final = list(map(list, zip(*pdList)))\n",
    "    \n",
    "    for entry in final:\n",
    "        output = bias\n",
    "        for i in range(0, len(entry)):\n",
    "            #print(\"Entry {0}, coef {1}   i {2}\".format(entry[i], coef[i] , i))\n",
    "            output += entry[i] * coef[i]\n",
    "        error+= (y[c] - output) ** 2\n",
    "        c+=1\n",
    "    return sqrt(error)   \n",
    "            \n",
    "e = calculateError(X, y, linreg.intercept_, linreg.coef_, feature_cols)\n",
    "print(\"Error : {0}\".format(e))"
   ]
  },
  {
   "cell_type": "code",
   "execution_count": null,
   "metadata": {
    "collapsed": true
   },
   "outputs": [],
   "source": []
  }
 ],
 "metadata": {
  "kernelspec": {
   "display_name": "Python 2",
   "language": "python",
   "name": "python2"
  },
  "language_info": {
   "codemirror_mode": {
    "name": "ipython",
    "version": 2
   },
   "file_extension": ".py",
   "mimetype": "text/x-python",
   "name": "python",
   "nbconvert_exporter": "python",
   "pygments_lexer": "ipython2",
   "version": "2.7.13"
  }
 },
 "nbformat": 4,
 "nbformat_minor": 1
}
